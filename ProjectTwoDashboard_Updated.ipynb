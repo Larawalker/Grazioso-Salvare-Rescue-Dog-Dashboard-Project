{
 "cells": [
  {
   "cell_type": "markdown",
   "id": "0463c054",
   "metadata": {},
   "source": [
    "# Grazioso Salvare Rescue Dashboard"
   ]
  },
  {
   "cell_type": "code",
   "execution_count": 1,
   "id": "6321aa89",
   "metadata": {},
   "outputs": [
    {
     "name": "stdout",
     "output_type": "stream",
     "text": [
      "Connected! Found 10000 records.\n"
     ]
    }
   ],
   "source": [
    "from jupyter_dash import JupyterDash\n",
    "from dash import dcc, html, dash_table, Input, Output\n",
    "import pandas as pd\n",
    "import plotly.express as px\n",
    "\n",
    "from AnimalShelter_Local import AnimalShelter\n",
    "from pymongo import MongoClient\n",
    "import os\n",
    "os.environ['FLASK_ENV'] = 'development'\n",
    "\n",
    "shelter = AnimalShelter()\n",
    "test_data = shelter.read({})\n",
    "print(f\"Connected! Found {len(test_data)} records.\")\n",
    "\n",
    "# MongoDB connection\n",
    "client = MongoClient('localhost', 27017)\n",
    "db = client['AAC']\n",
    "collection = db['animals']\n",
    "\n",
    "\n",
    "df = pd.read_csv('aac_shelter_outcomes.csv')\n",
    "df.columns = df.columns.str.strip().str.replace(' ', '_').str.lower()\n",
    "shelter = AnimalShelter()\n",
    "\n",
    "data = shelter.read()\n",
    "df = pd.DataFrame(data)\n",
    "\n",
    "\n"
   ]
  },
  {
   "cell_type": "code",
   "execution_count": 2,
   "id": "a45615a1",
   "metadata": {},
   "outputs": [
    {
     "name": "stderr",
     "output_type": "stream",
     "text": [
      "/Users/student11/Desktop/ProjectTwoFolder/.venv/lib/python3.10/site-packages/dash/dash.py:587: UserWarning:\n",
      "\n",
      "JupyterDash is deprecated, use Dash instead.\n",
      "See https://dash.plotly.com/dash-in-jupyter for more details.\n",
      "\n"
     ]
    }
   ],
   "source": [
    "\n",
    "empty_df = pd.DataFrame()\n",
    "\n",
    "app = JupyterDash(__name__)\n",
    "\n",
    "app.title = \"Grazioso Salvare Dashboard\"\n",
    "\n",
    "app.layout = html.Div([\n",
    "    html.A(\n",
    "        html.Img(src='/assets/Grazioso Salvare Logo.png', style={'width': '200px'}),\n",
    "        href=\"https://www.snhu.edu\",\n",
    "        target=\"_blank\"\n",
    "    ),\n",
    "\n",
    "    html.H1(\"Grazioso Salvare Rescue Dog Dashboard\", style={'textAlign': 'center'}),\n",
    "\n",
    "    html.Div([\n",
    "        html.Label(\"Select Rescue Type:\"),\n",
    "        dcc.Dropdown(\n",
    "            id='rescue-type',\n",
    "            options=[\n",
    "                {'label': 'Water Rescue', 'value': 'Water Rescue'},\n",
    "                {'label': 'Mountain or Wilderness Rescue', 'value': 'Mountain or Wilderness Rescue'},\n",
    "                {'label': 'Disaster or Individual Tracking', 'value': 'Disaster or Individual Tracking'},\n",
    "                {'label': 'Reset', 'value': 'Reset'}\n",
    "            ],\n",
    "            value='Reset'\n",
    "        ),\n",
    "\n",
    "            dcc.Dropdown(\n",
    "            id='sex-dropdown',\n",
    "            options=[{'label': s, 'value': s} for s in ['Male', 'Female']],\n",
    "            value='Male'\n",
    "        ),\n",
    "            dcc.Dropdown(\n",
    "            id='age-dropdown',\n",
    "            options=[{'label': a, 'value': a} for a in ['Puppy', 'Young', 'Adult', 'Senior']],\n",
    "            value='Adult'\n",
    "        ),\n",
    "\n",
    "    ], style={'width': '50%', 'margin': 'auto'}),\n",
    "\n",
    "    html.Br(),\n",
    "\n",
    "    dash_table.DataTable(\n",
    "        id='datatable',\n",
    "        columns=[{\"name\": i, \"id\": i} for i in df.columns],\n",
    "        data=empty_df.to_dict('records'),\n",
    "        page_size=10,\n",
    "        style_table={'overflowX': 'auto'},\n",
    "        style_cell={'textAlign': 'left'},\n",
    "        style_header={'fontWeight': 'bold'}\n",
    "    ),\n",
    "\n",
    "     \n",
    "\n",
    "    html.Br(),\n",
    "\n",
    "    dcc.Graph(id='map-chart'),\n",
    "    html.Br(),\n",
    "    dcc.Graph(id='second-chart'),\n",
    "\n",
    "    html.Footer(\"Created by Lara Walker\", style={'textAlign': 'center', 'marginTop': '40px'})\n",
    "])\n"
   ]
  },
  {
   "cell_type": "code",
   "execution_count": 3,
   "id": "c73a42c6",
   "metadata": {},
   "outputs": [],
   "source": [
    "@app.callback(\n",
    "    [Output('datatable', 'data'),\n",
    "     Output('map-chart', 'figure'),\n",
    "     Output('second-chart', 'figure')],\n",
    "    [Input('rescue-type', 'value'),\n",
    "     Input('sex-dropdown', 'value'),\n",
    "     Input('age-dropdown', 'value')]\n",
    ")\n",
    "def update_dashboard(rescue_type, selected_sex, selected_age_group):\n",
    "    # Age filter setup\n",
    "    age_group_map = {\n",
    "        \"Puppy\": (0, 26),\n",
    "        \"Young\": (27, 52),\n",
    "        \"Adult\": (53, 156),\n",
    "        \"Senior\": (157, 520)\n",
    "    }\n",
    "    age_range = age_group_map.get(selected_age_group, (0, 520))\n",
    "\n",
    "    # Sex filter setup\n",
    "    sex_map = {\n",
    "        \"Female\": [\"Intact Female\", \"Spayed Female\"],\n",
    "        \"Male\": [\"Intact Male\", \"Neutered Male\"]\n",
    "    }\n",
    "\n",
    "    # Base query with age and sex\n",
    "    query = {\n",
    "        \"age_upon_outcome_in_weeks\": {\n",
    "            \"$gte\": age_range[0],\n",
    "            \"$lte\": age_range[1]\n",
    "        },\n",
    "        \"sex_upon_outcome\": {\n",
    "            \"$in\": sex_map.get(selected_sex, [])\n",
    "        }\n",
    "    }\n",
    "\n",
    "    # Add rescue-type-specific breed filters\n",
    "    if rescue_type == \"Water Rescue\":\n",
    "        query[\"breed\"] = {\"$in\": [\"Labrador Retriever Mix\", \"Chesapeake Bay Retriever\", \"Newfoundland\"]}\n",
    "    elif rescue_type == \"Mountain or Wilderness Rescue\":\n",
    "        query[\"breed\"] = {\"$in\": [\"German Shepherd\", \"Alaskan Malamute\", \"Old English Sheepdog\", \"Siberian Husky\", \"Rottweiler\"]}\n",
    "    elif rescue_type == \"Disaster or Individual Tracking\":\n",
    "        query[\"breed\"] = {\"$in\": [\"Doberman Pinscher\", \"German Shepherd\", \"Golden Retriever\", \"Bloodhound\", \"Rottweiler\"]}\n",
    "\n",
    "    # Query MongoDB\n",
    "    filtered_data = []\n",
    "    for doc in shelter.read(query):\n",
    "        doc['_id'] = str(doc['_id'])  # Convert ObjectId to string\n",
    "        filtered_data.append(doc)\n",
    "\n",
    "    filtered_df = pd.DataFrame(filtered_data)\n",
    "\n",
    "    # Map chart\n",
    "    if 'location_lat' in filtered_df.columns and 'location_long' in filtered_df.columns:\n",
    "        map_fig = px.scatter_mapbox(\n",
    "            filtered_df,\n",
    "            lat='location_lat',\n",
    "            lon='location_long',\n",
    "            hover_name='breed',\n",
    "            zoom=10\n",
    "        )\n",
    "        map_fig.update_layout(mapbox_style='open-street-map')\n",
    "    else:\n",
    "        map_fig = {}\n",
    "\n",
    "    # Pie chart\n",
    "    if 'breed' in filtered_df.columns:\n",
    "        second_fig = px.pie(\n",
    "            filtered_df,\n",
    "            names='breed',\n",
    "            title='Breed Distribution for Selected Rescue Type'\n",
    "        )\n",
    "    else:\n",
    "        second_fig = {}\n",
    "\n",
    "    return filtered_df.to_dict('records'), map_fig, second_fig\n",
    "\n",
    "\n",
    "\n",
    "\n"
   ]
  },
  {
   "cell_type": "code",
   "execution_count": 4,
   "id": "969e5607",
   "metadata": {},
   "outputs": [
    {
     "data": {
      "text/html": [
       "\n",
       "        <iframe\n",
       "            width=\"100%\"\n",
       "            height=\"650\"\n",
       "            src=\"http://127.0.0.1:8050/\"\n",
       "            frameborder=\"0\"\n",
       "            allowfullscreen\n",
       "            \n",
       "        ></iframe>\n",
       "        "
      ],
      "text/plain": [
       "<IPython.lib.display.IFrame at 0x10938aa10>"
      ]
     },
     "metadata": {},
     "output_type": "display_data"
    },
    {
     "name": "stdout",
     "output_type": "stream",
     "text": [
      "---------------------------------------------------------------------------\n",
      "NotFound                                  Traceback (most recent call last)\n",
      "NotFound: 404 Not Found: The requested URL was not found on the server. If you entered the URL manually please check your spelling and try again.\n",
      "\n",
      "---------------------------------------------------------------------------\n",
      "NotFound                                  Traceback (most recent call last)\n",
      "NotFound: 404 Not Found: The requested URL was not found on the server. If you entered the URL manually please check your spelling and try again.\n",
      "\n"
     ]
    },
    {
     "name": "stderr",
     "output_type": "stream",
     "text": [
      "/var/folders/nd/wy_g2njx03s0k_1m_336q4rh0000gn/T/ipykernel_23822/775169757.py:54: DeprecationWarning:\n",
      "\n",
      "*scatter_mapbox* is deprecated! Use *scatter_map* instead. Learn more at: https://plotly.com/python/mapbox-to-maplibre/\n",
      "\n"
     ]
    },
    {
     "name": "stdout",
     "output_type": "stream",
     "text": [
      "---------------------------------------------------------------------------\n",
      "NotFound                                  Traceback (most recent call last)\n",
      "NotFound: 404 Not Found: The requested URL was not found on the server. If you entered the URL manually please check your spelling and try again.\n",
      "\n",
      "---------------------------------------------------------------------------\n",
      "NotFound                                  Traceback (most recent call last)\n",
      "NotFound: 404 Not Found: The requested URL was not found on the server. If you entered the URL manually please check your spelling and try again.\n",
      "\n"
     ]
    },
    {
     "name": "stderr",
     "output_type": "stream",
     "text": [
      "/var/folders/nd/wy_g2njx03s0k_1m_336q4rh0000gn/T/ipykernel_23822/775169757.py:54: DeprecationWarning:\n",
      "\n",
      "*scatter_mapbox* is deprecated! Use *scatter_map* instead. Learn more at: https://plotly.com/python/mapbox-to-maplibre/\n",
      "\n",
      "/var/folders/nd/wy_g2njx03s0k_1m_336q4rh0000gn/T/ipykernel_23822/775169757.py:54: DeprecationWarning:\n",
      "\n",
      "*scatter_mapbox* is deprecated! Use *scatter_map* instead. Learn more at: https://plotly.com/python/mapbox-to-maplibre/\n",
      "\n",
      "/var/folders/nd/wy_g2njx03s0k_1m_336q4rh0000gn/T/ipykernel_23822/775169757.py:54: DeprecationWarning:\n",
      "\n",
      "*scatter_mapbox* is deprecated! Use *scatter_map* instead. Learn more at: https://plotly.com/python/mapbox-to-maplibre/\n",
      "\n"
     ]
    }
   ],
   "source": [
    "\n",
    "\n",
    "app.run(mode='external', debug=True)\n",
    "\n",
    "\n",
    "\n",
    "\n",
    "\n",
    "\n",
    "\n",
    "\n",
    "\n",
    "\n",
    "\n",
    "\n",
    "\n"
   ]
  },
  {
   "cell_type": "code",
   "execution_count": null,
   "id": "e0be2cfc-d75c-4924-9ad9-b70088de4129",
   "metadata": {},
   "outputs": [],
   "source": []
  }
 ],
 "metadata": {
  "kernelspec": {
   "display_name": "Python 3 (ipykernel)",
   "language": "python",
   "name": "python3"
  },
  "language_info": {
   "codemirror_mode": {
    "name": "ipython",
    "version": 3
   },
   "file_extension": ".py",
   "mimetype": "text/x-python",
   "name": "python",
   "nbconvert_exporter": "python",
   "pygments_lexer": "ipython3",
   "version": "3.10.13"
  }
 },
 "nbformat": 4,
 "nbformat_minor": 5
}
